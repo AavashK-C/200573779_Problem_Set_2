{
 "cells": [
  {
   "cell_type": "code",
   "execution_count": null,
   "id": "98397955",
   "metadata": {},
   "outputs": [],
   "source": [
    "# Problem Set 2"
   ]
  },
  {
   "cell_type": "code",
   "execution_count": null,
   "id": "3c494ffc",
   "metadata": {},
   "outputs": [],
   "source": [
    "## Question 1\n",
    "Consider the following Python module:\n",
    "    a = 0\n",
    "    def b():\n",
    "        global a\n",
    "        a = c(a)\n",
    "    def c(a):\n",
    "        return a + 2\n",
    "After importing the module into the interpreter, you execute:>>> b()>>> b()>>> b()>>> a?\n",
    "What value is displayed when the last expression (a) is evaluated?\n",
    "Explain youranswer by indicating what happens in every executed stat"
   ]
  },
  {
   "cell_type": "code",
   "execution_count": 6,
   "id": "ccd82e15",
   "metadata": {},
   "outputs": [
    {
     "data": {
      "text/plain": [
       "6"
      ]
     },
     "execution_count": 6,
     "metadata": {},
     "output_type": "execute_result"
    }
   ],
   "source": [
    "#Answer\n",
    "a=0 #new variable decleration\n",
    "def b():\n",
    "    global a #calling the global variable a\n",
    "    a=c(a) #setting a new value to the called global variable a by using the function c\n",
    "def c(a): #Creating new function c that takes a variable as argument\n",
    "    return a+2 #returning the output as the given argument and adding 2 to the called argument\n",
    "b() #after runnint b() once the value of global variavle a will be set to 0+2 so 2\n",
    "b() #here the a value that goes to function b is 2 so the value of global a will be set to 2+2 so 4\n",
    "b() # like wise the value of global variable a will be set to 6 here\n",
    "a #here the value of a will be 6 as it has been added by 2 for three steps in which it was called by function b"
   ]
  },
  {
   "cell_type": "code",
   "execution_count": null,
   "id": "ecd7a5ac",
   "metadata": {},
   "outputs": [],
   "source": []
  }
 ],
 "metadata": {
  "kernelspec": {
   "display_name": "Python 3 (ipykernel)",
   "language": "python",
   "name": "python3"
  },
  "language_info": {
   "codemirror_mode": {
    "name": "ipython",
    "version": 3
   },
   "file_extension": ".py",
   "mimetype": "text/x-python",
   "name": "python",
   "nbconvert_exporter": "python",
   "pygments_lexer": "ipython3",
   "version": "3.11.4"
  }
 },
 "nbformat": 4,
 "nbformat_minor": 5
}
