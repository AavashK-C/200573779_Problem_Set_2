{
 "cells": [
  {
   "cell_type": "code",
   "execution_count": null,
   "id": "98397955",
   "metadata": {},
   "outputs": [],
   "source": [
    "# Problem Set 2"
   ]
  },
  {
   "cell_type": "code",
   "execution_count": null,
   "id": "3c494ffc",
   "metadata": {},
   "outputs": [],
   "source": [
    "## Question 1\n",
    "Consider the following Python module:\n",
    "    a = 0\n",
    "    def b():\n",
    "        global a\n",
    "        a = c(a)\n",
    "    def c(a):\n",
    "        return a + 2\n",
    "After importing the module into the interpreter, you execute:\n",
    "    >>> b()\n",
    "    >>> b()\n",
    "    >>> b()\n",
    "    >>> a?\n",
    "What value is displayed when the last expression (a) is evaluated?\n",
    "Explain youranswer by indicating what happens in every executed stat"
   ]
  },
  {
   "cell_type": "code",
   "execution_count": 6,
   "id": "ccd82e15",
   "metadata": {},
   "outputs": [
    {
     "data": {
      "text/plain": [
       "6"
      ]
     },
     "execution_count": 6,
     "metadata": {},
     "output_type": "execute_result"
    }
   ],
   "source": [
    "#Answer\n",
    "a=0 #new variable decleration\n",
    "def b():\n",
    "    global a #calling the global variable a\n",
    "    a=c(a) #setting a new value to the called global variable a by using the function c\n",
    "def c(a): #Creating new function c that takes a variable as argument\n",
    "    return a+2 #returning the output as the given argument and adding 2 to the called argument\n",
    "b() #after runnint b() once the value of global variavle a will be set to 0+2 so 2\n",
    "b() #here the a value that goes to function b is 2 so the value of global a will be set to 2+2 so 4\n",
    "b() # like wise the value of global variable a will be set to 6 here\n",
    "a #here the value of a will be 6 as it has been added by 2 for three steps in which it was called by function b"
   ]
  },
  {
   "cell_type": "code",
   "execution_count": null,
   "id": "36da1026",
   "metadata": {},
   "outputs": [],
   "source": [
    "## Question 2\n",
    "Function fileLength(), given to you, takes the name of a file as input and returnsthe length of the file\n",
    ">>> fileLength('midterm.py')284\n",
    ">>> fileLength('idterm.py')\n",
    "Traceback (most recent call last):\n",
    "    File \"<pyshell#34>\", line 1, in <module>\n",
    "        fileLength('idterm.py')\n",
    "    File \"/Users/me/midterm.py\", line 3, in \n",
    "    fileLengthinfile = open(filename)\n",
    "    FileNotFoundError: [Errno 2] \n",
    "        No such file or directory:'idterm.py'\n",
    "    As shown above, if the file cannot be found by the interpreter or if it cannot be readas a text file, \n",
    "    an exception will be raised. Modify function fileLength() so that afriendly message is printed instead:\n",
    "        >>> fileLength('midterm.py')\n",
    "        358\n",
    "        >>> fileLength('idterm.py')\n",
    "        File idterm.py not found."
   ]
  },
  {
   "cell_type": "code",
   "execution_count": null,
   "id": "9f5b0617",
   "metadata": {},
   "outputs": [],
   "source": [
    "def fileLength(file_name): #creating a function called fileLength\n",
    "    try:\n",
    "        with open(file_name, 'r') as file:\n",
    "            contents = file.read()\n",
    "            print(len(contents))\n",
    "    except FileNotFoundError:\n",
    "        print(f\"File '{file_name}' not found.\")\n",
    "fileLength(\"Aavash_K_C_Problem_set_2.ipynb\")"
   ]
  }
 ],
 "metadata": {
  "kernelspec": {
   "display_name": "Python 3 (ipykernel)",
   "language": "python",
   "name": "python3"
  },
  "language_info": {
   "codemirror_mode": {
    "name": "ipython",
    "version": 3
   },
   "file_extension": ".py",
   "mimetype": "text/x-python",
   "name": "python",
   "nbconvert_exporter": "python",
   "pygments_lexer": "ipython3",
   "version": "3.11.4"
  }
 },
 "nbformat": 4,
 "nbformat_minor": 5
}
