{
 "cells": [
  {
   "cell_type": "code",
   "execution_count": null,
   "id": "98397955",
   "metadata": {},
   "outputs": [],
   "source": [
    "# Problem Set 2"
   ]
  },
  {
   "cell_type": "code",
   "execution_count": null,
   "id": "3c494ffc",
   "metadata": {},
   "outputs": [],
   "source": [
    "## Question 1\n",
    "Consider the following Python module:\n",
    "    a = 0\n",
    "    def b():\n",
    "        global a\n",
    "        a = c(a)\n",
    "    def c(a):\n",
    "        return a + 2\n",
    "After importing the module into the interpreter, you execute:\n",
    "    >>> b()\n",
    "    >>> b()\n",
    "    >>> b()\n",
    "    >>> a?\n",
    "What value is displayed when the last expression (a) is evaluated?\n",
    "Explain youranswer by indicating what happens in every executed stat"
   ]
  },
  {
   "cell_type": "code",
   "execution_count": 6,
   "id": "ccd82e15",
   "metadata": {},
   "outputs": [
    {
     "data": {
      "text/plain": [
       "6"
      ]
     },
     "execution_count": 6,
     "metadata": {},
     "output_type": "execute_result"
    }
   ],
   "source": [
    "#Answer\n",
    "a=0 #new variable decleration\n",
    "def b():\n",
    "    global a #calling the global variable a\n",
    "    a=c(a) #setting a new value to the called global variable a by using the function c\n",
    "def c(a): #Creating new function c that takes a variable as argument\n",
    "    return a+2 #returning the output as the given argument and adding 2 to the called argument\n",
    "b() #after runnint b() once the value of global variavle a will be set to 0+2 so 2\n",
    "b() #here the a value that goes to function b is 2 so the value of global a will be set to 2+2 so 4\n",
    "b() # like wise the value of global variable a will be set to 6 here\n",
    "a #here the value of a will be 6 as it has been added by 2 for three steps in which it was called by function b"
   ]
  },
  {
   "cell_type": "code",
   "execution_count": null,
   "id": "8d2df78c",
   "metadata": {},
   "outputs": [],
   "source": [
    "## Question 2\n",
    "Function fileLength(), given to you, takes the name of a file as input and returnsthe length of the file\n",
    ">>> fileLength('midterm.py')284\n",
    ">>> fileLength('idterm.py')\n",
    "Traceback (most recent call last):\n",
    "    File \"<pyshell#34>\", line 1, in <module>\n",
    "        fileLength('idterm.py')\n",
    "    File \"/Users/me/midterm.py\", line 3, in \n",
    "    fileLengthinfile = open(filename)\n",
    "    FileNotFoundError: [Errno 2] \n",
    "        No such file or directory:'idterm.py'\n",
    "    As shown above, if the file cannot be found by the interpreter or if it cannot be readas a text file, \n",
    "    an exception will be raised. Modify function fileLength() so that afriendly message is printed instead:\n",
    "        >>> fileLength('midterm.py')\n",
    "        358\n",
    "        >>> fileLength('idterm.py')\n",
    "        File idterm.py not found."
   ]
  },
  {
   "cell_type": "code",
   "execution_count": 8,
   "id": "b719ea1a",
   "metadata": {},
   "outputs": [
    {
     "name": "stdout",
     "output_type": "stream",
     "text": [
      "3981\n",
      "File 'idterm.py' not found.\n"
     ]
    }
   ],
   "source": [
    "def fileLength(file_name): #creating a function called fileLength\n",
    "    try: #using try for error handling\n",
    "        with open(file_name, 'r') as file:\n",
    "            contents = file.read()\n",
    "            print(len(contents))\n",
    "    except FileNotFoundError: #showing a message when there is a file not found exception\n",
    "        print(f\"File '{file_name}' not found.\")\n",
    "fileLength(\"Aavash_K_C_Problem_set_2.ipynb\")\n",
    "fileLength(\"idterm.py\")"
   ]
  },
  {
   "cell_type": "code",
   "execution_count": null,
   "id": "96f843d6",
   "metadata": {},
   "outputs": [],
   "source": [
    "## Question 3\n",
    "Write a class named Marsupial that can be used as shown below:\n",
    ">>> m = Marsupial()\n",
    ">>> m.put_in_pouch('doll')\n",
    ">>> m.put_in_pouch('firetruck')\n",
    ">>> m.put_in_pouch('kitten')\n",
    ">>> m.pouch_contents()\n",
    "['doll', 'firetruck', 'kitten']\n",
    "Now write a class named Kangaroo as a subclass of Marsupial that inherits all theattributes of Marsupial and also:\n",
    "a. extends the Marsupial __init__ constructor to take, as input, thecoordinates x and y of the Kangaroo object,\n",
    "b. supports method jump that takes number values dx and dy as input andmoves the kangaroo by dx units along the x-axis and\n",
    "    by dy units along the y-axis, and\n",
    "c. overloads the __str__ operator so it behaves as shown below.\n",
    ">>> k = Kangaroo(0,0)\n",
    ">>> print(k)\n",
    "I am a Kangaroo located at coordinates (0,0)\n",
    ">>> k.put_in_pouch('doll')\n",
    ">>> k.put_in_pouch('firetruck')\n",
    ">>> k.put_in_pouch('kitten')\n",
    ">>> k.pouch_contents()\n",
    "['doll', 'firetruck', 'kitten']\n",
    ">>> k.jump(1,0)\n",
    ">>> k.jump(1,0)\n",
    ">>> k.jump(1,0)\n",
    ">>> print(k)\n",
    "I am a Kangaroo located at coordinates (3,0)"
   ]
  },
  {
   "cell_type": "code",
   "execution_count": 9,
   "id": "a750411c",
   "metadata": {},
   "outputs": [
    {
     "name": "stdout",
     "output_type": "stream",
     "text": [
      "['doll', 'firetruck', 'kitten']\n"
     ]
    }
   ],
   "source": [
    "#Answer\n",
    "class Marsupial: #Creating the marsupial class\n",
    "    def __init__(self): #declaring constructor\n",
    "        self.pouch = [] #declaring a empty list item inside he constructor\n",
    "\n",
    "    def put_in_pouch(self, item):\n",
    "        self.pouch.append(item)\n",
    "\n",
    "    def pouch_contents(self):\n",
    "        return self.pouch\n",
    "    \n",
    "m=Marsupial()\n",
    "m.put_in_pouch('doll')\n",
    "m.put_in_pouch('firetruck')\n",
    "m.put_in_pouch('kitten')\n",
    "print(m.pouch_contents())\n",
    "    "
   ]
  },
  {
   "cell_type": "code",
   "execution_count": 17,
   "id": "0bdf7271",
   "metadata": {},
   "outputs": [
    {
     "name": "stdout",
     "output_type": "stream",
     "text": [
      "I am a Kangaroo at coordinates (0,0)\n",
      "I am a Kangaroo at coordinates (3,0)\n"
     ]
    }
   ],
   "source": [
    "class Kangaroo(Marsupial): # declaring a class kangaroo that inherits Marsupial\n",
    "    def __init__(self, x=0, y=0): #extending the constructor from Marsupual\n",
    "        super().__init__()\n",
    "        self.x = x\n",
    "        self.y = y\n",
    "    def jump(self,dx,dy): #adding jump function that takes 2 coordinates\n",
    "        self.x=self.x+dx\n",
    "        self.y=self.y+dy\n",
    "    def __str__(self): #overwriting the __str__ operator\n",
    "        return f\"I am a Kangaroo at coordinates ({self.x},{self.y})\"\n",
    "k= Kangaroo(0,0)\n",
    "print(k)\n",
    "k.put_in_pouch('doll')\n",
    "k.put_in_pouch('firetruck')\n",
    "k.put_in_pouch('kitten')\n",
    "k.pouch_contents()\n",
    "k.jump(1,0)\n",
    "k.jump(1,0)\n",
    "k.jump(1,0)\n",
    "print(k)\n"
   ]
  },
  {
   "cell_type": "code",
   "execution_count": null,
   "id": "d1e05251",
   "metadata": {},
   "outputs": [],
   "source": [
    "## Question 4\n",
    "Write function collatz() that takes a positive integer x as input and prints theCollatz sequence starting at x.\n",
    "A Collatz sequence is obtained by repeatedly applyingthis rule to the previous number x in the sequence:\n",
    "    x = { 𝑥/2 𝑖𝑓 𝑥 𝑖𝑠 𝑒𝑣𝑒𝑛3𝑥 + 1 𝑖𝑓 𝑥 𝑖𝑠 𝑜𝑑𝑑\n",
    "Your function should stop when the sequence gets to number 1.\n",
    "Yourimplementation must be recursive, without any loops.\n",
    ">>> collatz(1)\n",
    "1\n",
    ">>> collatz(10)\n",
    "10\n",
    "5\n",
    "16\n",
    "8\n",
    "4\n",
    "2\n",
    "1"
   ]
  },
  {
   "cell_type": "code",
   "execution_count": 19,
   "id": "0db15343",
   "metadata": {},
   "outputs": [
    {
     "name": "stdout",
     "output_type": "stream",
     "text": [
      "1\n",
      "10\n",
      "5\n",
      "16\n",
      "8\n",
      "4\n",
      "2\n",
      "1\n"
     ]
    }
   ],
   "source": [
    "#Answer\n",
    "def collatz(x): #declaring the collatz function that takes an argument x\n",
    "    if x == 1: #makin it so that the function stops if the value of x is 1\n",
    "        print(x)\n",
    "        return\n",
    "    print(x)\n",
    "    if x % 2 == 0: #if even\n",
    "        collatz(x // 2) #recalling collatz function by changing the value if x !=1\n",
    "    else: #if odd\n",
    "        collatz(3 * x + 1) #recalling collatz function by changing the value if x !=1\n",
    "collatz(1)\n",
    "collatz(10)"
   ]
  },
  {
   "cell_type": "code",
   "execution_count": null,
   "id": "f6fdfae5",
   "metadata": {},
   "outputs": [],
   "source": [
    "## Question 5\n",
    "Write a recursive method binary() that takes a non-negativeinteger n \n",
    "and prints the binary representation of integer n.\n",
    ">>> binary(0)\n",
    "0\n",
    ">>> binary(1)\n",
    "1\n",
    ">>> binary(3)\n",
    "11\n",
    ">>> binary(9)\n",
    "1001"
   ]
  },
  {
   "cell_type": "code",
   "execution_count": 30,
   "id": "36e7a493",
   "metadata": {},
   "outputs": [
    {
     "name": "stdout",
     "output_type": "stream",
     "text": [
      "0\n",
      "1\n",
      "11\n",
      "1001\n"
     ]
    }
   ],
   "source": [
    "#Answer\n",
    "def binary(n): #declaring the binary function that takes integer n\n",
    "    if n > 1:\n",
    "        binary(n // 2)\n",
    "    print(n % 2, end=\"\") # printing remainder at the start of the line\n",
    "    \n",
    "     \n",
    "\n",
    "binary(0)\n",
    "print()# to jump line \n",
    "binary(1)\n",
    "print()\n",
    "binary(3)\n",
    "print()\n",
    "binary(9)\n",
    "print()"
   ]
  },
  {
   "cell_type": "code",
   "execution_count": null,
   "id": "823d9974",
   "metadata": {},
   "outputs": [],
   "source": [
    "## Question 6\n",
    "Implement a class named HeadingParser that can be used to parse an HTMLdocument,\n",
    "and retrieve and print all the headings in the document. You shouldimplement your \n",
    "class as a subclass of HTMLParser, defined in Standard Librarymodule html.parser.\n",
    "When fed a string containing HTML code, your class shouldprint the headings, one per line \n",
    "and in the order in which they appear in thedocument. \n",
    "Each heading should be indented as follows: an h1 heading should have indentation 0,\n",
    "    and h2 heading should have indentation 1, etc. \n",
    "Test yourimplementation using w3c.html.\n",
    ">>> infile = open('w3c.html')\n",
    ">>> content = infile.read()\n",
    ">>> infile.close()\n",
    ">>> hp = HeadingParser()\n",
    ">>> hp.feed(content)\n",
    "W3C \n",
    "    MissionPrinciples"
   ]
  },
  {
   "cell_type": "code",
   "execution_count": 32,
   "id": "7fdf40da",
   "metadata": {},
   "outputs": [
    {
     "name": "stdout",
     "output_type": "stream",
     "text": [
      "W3C Mission\n",
      " Principles\n"
     ]
    }
   ],
   "source": [
    "#Answer\n",
    "from html.parser import HTMLParser #inporting HTML PARSER\n",
    "\n",
    "class HeadingParser(HTMLParser): #creaeting heading parser class that inherits html parser\n",
    "    def __init__(self):\n",
    "        super().__init__()\n",
    "        self.in_heading = False\n",
    "        self.heading_level = 0\n",
    "\n",
    "    def handle_starttag(self, tag, attrs):\n",
    "        if tag.startswith(\"h\") and len(tag) == 2:\n",
    "            self.in_heading = True\n",
    "            self.heading_level = int(tag[1]) - 1\n",
    "\n",
    "    def handle_endtag(self, tag):\n",
    "        if self.in_heading:\n",
    "            self.in_heading = False\n",
    "\n",
    "    def handle_data(self, data):\n",
    "        if self.in_heading:\n",
    "            print(\" \" * self.heading_level + data)\n",
    "\n",
    "infile = open('w3c.html')\n",
    "content = infile.read()\n",
    "infile.close()\n",
    "hp = HeadingParser()\n",
    "hp.feed(content)"
   ]
  },
  {
   "cell_type": "code",
   "execution_count": null,
   "id": "bd6b0f2c",
   "metadata": {},
   "outputs": [],
   "source": []
  }
 ],
 "metadata": {
  "kernelspec": {
   "display_name": "Python 3 (ipykernel)",
   "language": "python",
   "name": "python3"
  },
  "language_info": {
   "codemirror_mode": {
    "name": "ipython",
    "version": 3
   },
   "file_extension": ".py",
   "mimetype": "text/x-python",
   "name": "python",
   "nbconvert_exporter": "python",
   "pygments_lexer": "ipython3",
   "version": "3.11.4"
  }
 },
 "nbformat": 4,
 "nbformat_minor": 5
}
